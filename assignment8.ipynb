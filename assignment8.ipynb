{
 "cells": [
  {
   "cell_type": "code",
   "execution_count": null,
   "metadata": {},
   "outputs": [],
   "source": [
    "\n"
   ]
  },
  {
   "cell_type": "code",
   "execution_count": 12,
   "metadata": {},
   "outputs": [
    {
     "name": "stdout",
     "output_type": "stream",
     "text": [
      "             #RA        DEC    r-mag  spread_model  spread_model_err\n",
      "0      76.709724 -56.091484  22.2622      0.113884          0.002812\n",
      "1      77.430664 -56.090149  23.8355      0.186889          0.003559\n",
      "2      76.937309 -56.092442  17.7021      0.000614          0.000120\n",
      "3      77.344833 -56.089947  23.7293      0.117396          0.000751\n",
      "4      77.416412 -56.089119  23.4456      0.192760          0.004764\n",
      "...          ...        ...      ...           ...               ...\n",
      "49995  77.138313 -53.850994  16.4224      0.000928          0.004025\n",
      "49996  76.861160 -53.846672  22.1385      0.076647          0.018807\n",
      "49997  76.892189 -53.855347  20.5829      0.013071         -0.001716\n",
      "49998  77.500732 -53.853760  20.7490      0.017413         -0.000761\n",
      "49999  77.139778 -53.854607  21.6471      0.038710          0.059438\n",
      "\n",
      "[50000 rows x 5 columns]\n",
      "The Column Header : ['#RA', 'DEC', 'r-mag', 'spread_model', 'spread_model_err']\n",
      "             #RA        DEC    r-mag  spread_model  spread_model_err\n",
      "16     77.039696 -56.084904  19.9448      0.008856          0.000064\n",
      "38     77.119270 -56.108150  19.6127      0.006623         -0.000183\n",
      "43     76.676086 -56.106075  18.8138      0.002451          0.000430\n",
      "151    77.118393 -56.084389  19.7339      0.009028          0.020733\n",
      "153    76.823029 -56.082844  19.8468      1.937630          0.019814\n",
      "...          ...        ...      ...           ...               ...\n",
      "49924  77.387482 -53.855377  19.8971      0.010697         -0.000017\n",
      "49935  76.962509 -53.848270  19.8635      0.003855         -0.001900\n",
      "49962  77.199036 -53.847679  19.6593      4.073760          0.017146\n",
      "49969  77.251816 -53.856327  18.7764      0.435740          0.023601\n",
      "49994  77.518555 -53.847065  18.8786      0.008526          0.022541\n",
      "\n",
      "[2708 rows x 5 columns]\n"
     ]
    }
   ],
   "source": [
    "import pandas as pd\n",
    "import matplotlib.pyplot as plt\n",
    "from __future__ import print_function, division\n",
    "\n",
    "import numpy as np\n",
    "from matplotlib import pyplot as plt\n",
    "\n",
    "from astroML.utils.decorators import pickle_results\n",
    "from astroML.datasets import fetch_sdss_specgals\n",
    "from astroML.correlation import bootstrap_two_point_angular\n",
    "\n",
    "data=pd.read_csv('BCS05hr_reduced.txt',delimiter='\\s+')\n",
    "print(data)\n",
    "column_headers = list(data.columns.values)\n",
    "print(\"The Column Header :\", column_headers)\n",
    "\n",
    "data['spread_model']\n",
    "\n",
    "data1= data[data['r-mag']>=17]\n",
    "data1= data1[data1['r-mag']<=20]\n",
    "data1=data1[data1['spread_model']>0.002]\n",
    "print(data1)"
   ]
  },
  {
   "cell_type": "code",
   "execution_count": null,
   "metadata": {},
   "outputs": [],
   "source": []
  },
  {
   "cell_type": "code",
   "execution_count": 2,
   "metadata": {},
   "outputs": [
    {
     "name": "stdout",
     "output_type": "stream",
     "text": [
      "2708\n",
      "2708\n"
     ]
    }
   ],
   "source": [
    "print(len(data1['r-mag']))\n",
    "print(len(data1['spread_model']))"
   ]
  },
  {
   "cell_type": "code",
   "execution_count": 11,
   "metadata": {},
   "outputs": [
    {
     "name": "stdout",
     "output_type": "stream",
     "text": [
      "@pickle_results: using precomputed results from 'correlation_functions.pkl'\n"
     ]
    },
    {
     "data": {
      "image/png": "[encoded data removed]",
      "text/plain": [
       "<Figure size 1000x800 with 1 Axes>"
      ]
     },
     "metadata": {},
     "output_type": "display_data"
    }
   ],
   "source": [
    "@pickle_results(\"correlation_functions.pkl\")\n",
    "def compute_results(Nbins=16, Nbootstraps=10,  method='landy-szalay', rseed=0):\n",
    "    np.random.seed(rseed)\n",
    "    bins = 10 ** np.linspace(np.log10(1 / 60.), np.log10(1), 16)\n",
    "\n",
    "    results = [bins]\n",
    "\n",
    "    results += bootstrap_two_point_angular(data1['#RA'],data1['DEC'],bins=bins,method=method,Nbootstraps=Nbootstraps)\n",
    "\n",
    "    return results\n",
    "\n",
    "(bins, r_corr, r_corr_err, r_bootstraps) = compute_results()\n",
    "\n",
    "bin_centers = 0.5 * (bins[1:] + bins[:-1])\n",
    "\n",
    "#------------------------------------------------------------\n",
    "# Plot the results\n",
    "corr = r_corr\n",
    "corr_err = r_corr_err\n",
    "bootstraps = r_bootstraps\n",
    "labels =\"Plot\"\n",
    "#           \n",
    "\n",
    "fig = plt.figure(figsize=(10, 8))\n",
    "\n",
    "#keeping log scale log and yscale linear\n",
    "ax = fig.add_subplot(121 , xscale='log', yscale='linear')\n",
    "\n",
    "ax.errorbar(bin_centers, corr, corr_err,\n",
    "                fmt='.k', ecolor='b', lw=1)\n",
    "\n",
    "\n",
    "ax.text(0.95, 0.95, labels,ha='right', va='top', transform=ax.transAxes)\n",
    "ax.set_xlabel(r'RA')\n",
    "ax.set_ylabel(r'DEC')\n",
    "plt.show()"
   ]
  },
  {
   "cell_type": "code",
   "execution_count": null,
   "metadata": {},
   "outputs": [],
   "source": []
  }
 ],
 "metadata": {
  "kernelspec": {
   "display_name": "base",
   "language": "python",
   "name": "python3"
  },
  "language_info": {
   "codemirror_mode": {
    "name": "ipython",
    "version": 3
   },
   "file_extension": ".py",
   "mimetype": "text/x-python",
   "name": "python",
   "nbconvert_exporter": "python",
   "pygments_lexer": "ipython3",
   "version": "3.11.5"
  }
 },
 "nbformat": 4,
 "nbformat_minor": 2
}
